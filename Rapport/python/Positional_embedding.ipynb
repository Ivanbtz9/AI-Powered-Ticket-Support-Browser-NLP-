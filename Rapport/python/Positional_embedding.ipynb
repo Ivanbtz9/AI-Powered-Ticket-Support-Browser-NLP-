{
 "cells": [
  {
   "cell_type": "code",
   "execution_count": 58,
   "id": "5146e17a",
   "metadata": {},
   "outputs": [
    {
     "name": "stdout",
     "output_type": "stream",
     "text": [
      "Using matplotlib backend: TkAgg\n"
     ]
    }
   ],
   "source": [
    "import numpy as np \n",
    "import matplotlib.pyplot as plt \n",
    "\n",
    "H = 768 \n",
    "n = 512\n",
    "\n",
    "Matrix = np.zeros((H,n))\n",
    "\n",
    "\n",
    "for pos in range(n):\n",
    "    for indx in range(H):\n",
    "        posi = pos +1\n",
    "        indxi = indx +1\n",
    "        \n",
    "        if indxi % 2 == 0:\n",
    "            Matrix[indx,pos] = np.sin(posi/10000**(2*(indx//2)/H))\n",
    "        else:\n",
    "            Matrix[indx,pos] = np.cos(posi/10000**(2*(indx//2)/H))\n",
    "\n",
    "\n",
    "#Matrix = Matrix[::-1,:]\n",
    "\n",
    "%matplotlib\n",
    "\n",
    "\n",
    "plt.figure(figsize=(10,20))\n",
    "plt.imshow(Matrix, cmap='plasma',aspect=\"auto\")  # Utilisation d'une colormap différente pour plus de clarté\n",
    "plt.colorbar(label='Amplitude')\n",
    "#plt.title(\"Représentation graphique des vecteurs de positions avec $d_{model} = 768$ et $n=512$ \",fontsize = 15)\n",
    "plt.xlabel(\"Position dans la phrase\",fontsize = 15)\n",
    "plt.ylabel(\"Indice du positional embeddind\",fontsize = 15)\n",
    "plt.gca().invert_yaxis()  # Inversion de l'axe y pour que l'indice 0 soit en haut\n",
    "plt.show()"
   ]
  }
 ],
 "metadata": {
  "kernelspec": {
   "display_name": "Python 3 (ipykernel)",
   "language": "python",
   "name": "python3"
  },
  "language_info": {
   "codemirror_mode": {
    "name": "ipython",
    "version": 3
   },
   "file_extension": ".py",
   "mimetype": "text/x-python",
   "name": "python",
   "nbconvert_exporter": "python",
   "pygments_lexer": "ipython3",
   "version": "3.10.12"
  }
 },
 "nbformat": 4,
 "nbformat_minor": 5
}
