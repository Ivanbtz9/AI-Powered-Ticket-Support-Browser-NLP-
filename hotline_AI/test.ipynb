{
 "cells": [
  {
   "cell_type": "code",
   "execution_count": 1,
   "metadata": {},
   "outputs": [],
   "source": [
    "import numpy as np\n",
    "import pandas as pd\n",
    "import os,re"
   ]
  },
  {
   "cell_type": "code",
   "execution_count": 2,
   "metadata": {},
   "outputs": [
    {
     "name": "stdout",
     "output_type": "stream",
     "text": [
      "data load\n"
     ]
    }
   ],
   "source": [
    "path_data_hotline = os.path.join(os.path.dirname(os.getcwd()),\"data/translated_data/data_english_2023.csv\")\n",
    "tickets_hotline = pd.read_csv(path_data_hotline,index_col=0)\n",
    "tickets_hotline['start_date'] = pd.to_datetime(tickets_hotline['start_date']).dt.date.apply(lambda x: x.strftime('%Y-%m-%d'))\n",
    "tickets_hotline= tickets_hotline[tickets_hotline.service.isin(['p n price availability', 'parts informations', 'part non conformity (technical)','parts number identification'])]\n",
    "print(\"data load\")\n",
    "path_data_to_hotline = os.path.join(os.path.dirname(os.getcwd()),\"data/hotline_data\")\n",
    "\n",
    "#tickets_hotline.to_csv(os.path.join(path_data_to_hotline,\"data_hotline_2023.csv\"),index=False)"
   ]
  },
  {
   "cell_type": "code",
   "execution_count": 3,
   "metadata": {},
   "outputs": [
    {
     "name": "stdout",
     "output_type": "stream",
     "text": [
      "data 28 march load\n"
     ]
    }
   ],
   "source": [
    "path_data_hotline_2024 = os.path.join(os.path.dirname(os.getcwd()),\"data/raw data/28_march_2024.xlsx\")\n",
    "tickets_hotline_2024 = pd.read_excel(path_data_hotline_2024)\n",
    "print(\"data 28 march load\")"
   ]
  },
  {
   "cell_type": "code",
   "execution_count": 7,
   "metadata": {},
   "outputs": [
    {
     "data": {
      "text/plain": [
       "array([['I guess the machine comes with an Engine operation manual, but it got ruined, \\xa0Trying to find the part number to order another one[Parts]what are you looking for ?1Machine serial numberGHLRT255A00040290back-and-forth 1Picture 1 (Max 2 Mo)Picture 2 (Max 2 Mo)Picture 3 (Max 2 Mo)ExplanationsI guess the machine comes with an Engine operation manual, but it got ruined, \\xa0Trying to find the part number to order another one',\n",
       "        'Northern America/Manitou North America (MNA)/MODERN MACHINERY CO., INC.',\n",
       "        'TLRT255']], dtype=object)"
      ]
     },
     "execution_count": 7,
     "metadata": {},
     "output_type": "execute_result"
    }
   ],
   "source": [
    "tickets_hotline_2024.sample()[[\"Description\",\"Entité (complet)\",\"Modèle\"]].values"
   ]
  },
  {
   "cell_type": "markdown",
   "metadata": {},
   "source": [
    "# chatbot"
   ]
  },
  {
   "cell_type": "code",
   "execution_count": null,
   "metadata": {},
   "outputs": [],
   "source": []
  }
 ],
 "metadata": {
  "kernelspec": {
   "display_name": ".venv_dashboard_assit",
   "language": "python",
   "name": "python3"
  },
  "language_info": {
   "codemirror_mode": {
    "name": "ipython",
    "version": 3
   },
   "file_extension": ".py",
   "mimetype": "text/x-python",
   "name": "python",
   "nbconvert_exporter": "python",
   "pygments_lexer": "ipython3",
   "version": "3.10.12"
  }
 },
 "nbformat": 4,
 "nbformat_minor": 2
}
